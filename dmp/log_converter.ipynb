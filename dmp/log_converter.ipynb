{
 "cells": [
  {
   "cell_type": "code",
   "execution_count": 11,
   "metadata": {},
   "outputs": [],
   "source": [
    "import os\n",
    "from os import listdir\n",
    "from os.path import isfile, isdir, join\n",
    "import json\n",
    "import re"
   ]
  },
  {
   "cell_type": "code",
   "execution_count": 21,
   "metadata": {},
   "outputs": [],
   "source": [
    "def load_all_files(path):\n",
    "    for file in listdir(path):\n",
    "     filePath = join(path,file)\n",
    "     if isfile(filePath):\n",
    "        yield filePath\n",
    "     elif isdir(filePath):\n",
    "        yield from load_all_files(filePath)\n",
    "\n",
    "def makedir_if_not_exists(filename: str) -> None:\n",
    "    try:\n",
    "        os.makedirs(filename)\n",
    "    except:\n",
    "        pass"
   ]
  },
  {
   "cell_type": "code",
   "execution_count": 24,
   "metadata": {},
   "outputs": [],
   "source": [
    "pattern = re.compile(r'(?<!^)(?=[A-Z])')\n",
    "\n",
    "def fix_key(k):\n",
    "    return pattern.sub('_', k).lower()\n",
    "\n",
    "def fix_element(e):\n",
    "    if isinstance(e, dict):\n",
    "        return {fix_key(key): fix_element(value) for key, value in e.items()}\n",
    "    else:\n",
    "        return e\n",
    "\n",
    "def fix_file(source_dir, destination_dir, file):\n",
    "    with open(file) as f:\n",
    "        data = json.load(f)\n",
    "        fixed = fix_element(data)\n",
    "        relative_path = os.path.relpath(file, source_dir)\n",
    "        dest_path = os.path.join(destination_dir, relative_path)\n",
    "        makedir_if_not_exists(os.path.dirname(dest_path))\n",
    "        with open(dest_path, 'w') as outfile:\n",
    "            json.dump(fixed, outfile)\n",
    "        \n",
    "        "
   ]
  },
  {
   "cell_type": "code",
   "execution_count": 25,
   "metadata": {},
   "outputs": [],
   "source": [
    "source_dir = '/home/ctripp/log/'\n",
    "dest_dir = '/home/ctripp/log2/'\n",
    "for file in load_all_files(source_dir):\n",
    "    fix_file(source_dir, dest_dir, file)\n",
    "    "
   ]
  }
 ],
 "metadata": {
  "kernelspec": {
   "display_name": "Python (dmp)",
   "language": "python",
   "name": "dmp"
  },
  "language_info": {
   "codemirror_mode": {
    "name": "ipython",
    "version": 3
   },
   "file_extension": ".py",
   "mimetype": "text/x-python",
   "name": "python",
   "nbconvert_exporter": "python",
   "pygments_lexer": "ipython3",
   "version": "3.7.3"
  }
 },
 "nbformat": 4,
 "nbformat_minor": 4
}
