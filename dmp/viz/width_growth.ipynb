{
 "cells": [
  {
   "cell_type": "code",
   "execution_count": 1,
   "id": "7d070ea6",
   "metadata": {},
   "outputs": [],
   "source": [
    "import tensorflow as tf\n",
    "from tensorflow import keras\n",
    "from pmlb import fetch_data\n",
    "import numpy as np\n",
    "import matplotlib.pyplot as plt"
   ]
  },
  {
   "cell_type": "code",
   "execution_count": 31,
   "id": "11da3f89",
   "metadata": {},
   "outputs": [],
   "source": [
    "def grow_network_replace(model, config):\n",
    "    new_model = keras.Sequential()\n",
    "    input_shape = model.input_shape\n",
    "    \n",
    "    for i,l in enumerate(model.layers):\n",
    "        old_width = l.output_shape[1]\n",
    "        if i in config.keys():\n",
    "#             new_model.add(keras.layers.Dense( old_width + config[i], activation='relu',\n",
    "#                                            kernel_initializer=tf.keras.initializers.RandomNormal(\n",
    "#                                                                     mean=0.0, stddev=0.005, seed=None),\n",
    "#                                            bias_initializer=tf.keras.initializers.RandomNormal(\n",
    "#                                                                     mean=0.0, stddev=0.005, seed=None),))\n",
    "            new_model.add(keras.layers.Dense( old_width + config[i], activation='relu'))\n",
    "        else:\n",
    "            new_model.add(keras.layers.Dense( old_width, activation='relu'))\n",
    "    \n",
    "    new_model.build(input_shape)\n",
    "    \n",
    "    for i,l in enumerate(model.layers):\n",
    "        old_width = l.output_shape[1]\n",
    "        old_weights = l.get_weights()\n",
    "        new_weights = new_model.layers[i].get_weights()\n",
    "\n",
    "        new_weights[0][:old_weights[0].shape[0],:old_weights[0].shape[1]] = old_weights[0]\n",
    "        new_weights[1][:old_weights[1].shape[0]] = old_weights[1]\n",
    "        new_model.layers[i].set_weights(new_weights)\n",
    "            \n",
    "    del model\n",
    "\n",
    "    return new_model"
   ]
  },
  {
   "cell_type": "code",
   "execution_count": 3,
   "id": "4dc298fd",
   "metadata": {},
   "outputs": [],
   "source": [
    "X, y = fetch_data('mnist', return_X_y=True)"
   ]
  },
  {
   "cell_type": "code",
   "execution_count": 51,
   "id": "c1c2c12c",
   "metadata": {},
   "outputs": [
    {
     "name": "stdout",
     "output_type": "stream",
     "text": [
      "Model: \"sequential_27\"\n",
      "_________________________________________________________________\n",
      " Layer (type)                Output Shape              Param #   \n",
      "=================================================================\n",
      " dense_108 (Dense)           (None, 4)                 3140      \n",
      "                                                                 \n",
      " dense_109 (Dense)           (None, 4)                 20        \n",
      "                                                                 \n",
      " dense_110 (Dense)           (None, 4)                 20        \n",
      "                                                                 \n",
      " dense_111 (Dense)           (None, 10)                50        \n",
      "                                                                 \n",
      "=================================================================\n",
      "Total params: 3,230\n",
      "Trainable params: 3,230\n",
      "Non-trainable params: 0\n",
      "_________________________________________________________________\n",
      "None\n"
     ]
    }
   ],
   "source": [
    "input_dim = X.shape[1]\n",
    "\n",
    "model = keras.models.Sequential()\n",
    "model.add(tf.keras.Input(shape=(input_dim,)))\n",
    "model.add(keras.layers.Dense( 4, activation='relu'))\n",
    "model.add(keras.layers.Dense( 4, activation='relu'))\n",
    "model.add(keras.layers.Dense( 4, activation='relu'))\n",
    "model.add(keras.layers.Dense( 10, activation='softmax'))\n",
    "\n",
    "print(model.summary())"
   ]
  },
  {
   "cell_type": "code",
   "execution_count": 52,
   "id": "4251d2eb",
   "metadata": {},
   "outputs": [
    {
     "name": "stdout",
     "output_type": "stream",
     "text": [
      "2188/2188 [==============================] - 3s 1ms/step - loss: 51.8439 - accuracy: 0.0772\n",
      "Epoch 1/3\n",
      "2188/2188 [==============================] - 4s 2ms/step - loss: 2.1918 - accuracy: 0.1852\n",
      "Epoch 2/3\n",
      "2188/2188 [==============================] - 3s 2ms/step - loss: 2.0091 - accuracy: 0.2094\n",
      "Epoch 3/3\n",
      "2188/2188 [==============================] - 3s 2ms/step - loss: 1.9818 - accuracy: 0.2175\n",
      "[[51.843894958496094, 2.1917569637298584, 2.0090556144714355, 1.981758713722229]]\n",
      "Model: \"sequential_28\"\n",
      "_________________________________________________________________\n",
      " Layer (type)                Output Shape              Param #   \n",
      "=================================================================\n",
      " dense_112 (Dense)           (None, 6)                 4710      \n",
      "                                                                 \n",
      " dense_113 (Dense)           (None, 6)                 42        \n",
      "                                                                 \n",
      " dense_114 (Dense)           (None, 6)                 42        \n",
      "                                                                 \n",
      " dense_115 (Dense)           (None, 10)                70        \n",
      "                                                                 \n",
      "=================================================================\n",
      "Total params: 4,864\n",
      "Trainable params: 4,864\n",
      "Non-trainable params: 0\n",
      "_________________________________________________________________\n",
      "None\n",
      "2188/2188 [==============================] - 3s 1ms/step - loss: 5.4761 - accuracy: 0.0851\n",
      "Epoch 1/3\n",
      "2188/2188 [==============================] - 5s 2ms/step - loss: 2.2556 - accuracy: 0.1753\n",
      "Epoch 2/3\n",
      "2188/2188 [==============================] - 4s 2ms/step - loss: 2.0445 - accuracy: 0.1923\n",
      "Epoch 3/3\n",
      "2188/2188 [==============================] - 4s 2ms/step - loss: 2.0650 - accuracy: 0.2317\n",
      "Model: \"sequential_29\"\n",
      "_________________________________________________________________\n",
      " Layer (type)                Output Shape              Param #   \n",
      "=================================================================\n",
      " dense_116 (Dense)           (None, 8)                 6280      \n",
      "                                                                 \n",
      " dense_117 (Dense)           (None, 8)                 72        \n",
      "                                                                 \n",
      " dense_118 (Dense)           (None, 8)                 72        \n",
      "                                                                 \n",
      " dense_119 (Dense)           (None, 10)                90        \n",
      "                                                                 \n",
      "=================================================================\n",
      "Total params: 6,514\n",
      "Trainable params: 6,514\n",
      "Non-trainable params: 0\n",
      "_________________________________________________________________\n",
      "None\n",
      "2188/2188 [==============================] - 4s 2ms/step - loss: 6.6030 - accuracy: 0.1234\n",
      "Epoch 1/3\n",
      "2188/2188 [==============================] - 5s 2ms/step - loss: 2.3781 - accuracy: 0.1404\n",
      "Epoch 2/3\n",
      "2188/2188 [==============================] - 4s 2ms/step - loss: 2.3080 - accuracy: 0.0988\n",
      "Epoch 3/3\n",
      "2188/2188 [==============================] - 4s 2ms/step - loss: 2.3028 - accuracy: 0.0986\n",
      "Model: \"sequential_30\"\n",
      "_________________________________________________________________\n",
      " Layer (type)                Output Shape              Param #   \n",
      "=================================================================\n",
      " dense_120 (Dense)           (None, 10)                7850      \n",
      "                                                                 \n",
      " dense_121 (Dense)           (None, 10)                110       \n",
      "                                                                 \n",
      " dense_122 (Dense)           (None, 10)                110       \n",
      "                                                                 \n",
      " dense_123 (Dense)           (None, 10)                110       \n",
      "                                                                 \n",
      "=================================================================\n",
      "Total params: 8,180\n",
      "Trainable params: 8,180\n",
      "Non-trainable params: 0\n",
      "_________________________________________________________________\n",
      "None\n",
      "2188/2188 [==============================] - 4s 2ms/step - loss: 14.4325 - accuracy: 0.1042\n",
      "Epoch 1/3\n",
      "2188/2188 [==============================] - 5s 2ms/step - loss: 2.5249 - accuracy: 0.0988\n",
      "Epoch 2/3\n",
      "2188/2188 [==============================] - 5s 2ms/step - loss: 2.3025 - accuracy: 0.0987\n",
      "Epoch 3/3\n",
      "2188/2188 [==============================] - 5s 2ms/step - loss: 2.3024 - accuracy: 0.0987\n"
     ]
    }
   ],
   "source": [
    "histories = []\n",
    "configs = [{0:2,1:2,2:2},\n",
    "           {0:2,1:2,2:2},\n",
    "           {0:2,1:2,2:2},]\n",
    "\n",
    "model.compile(optimizer='adam',\n",
    "              loss=tf.keras.losses.SparseCategoricalCrossentropy(),\n",
    "              metrics=['accuracy'])\n",
    "histories.append([model.evaluate(X,y)[0]] + model.fit(X,y,epochs=3).history['loss'])\n",
    "print (histories)\n",
    "for i,c in enumerate(configs):\n",
    "    model = grow_network_replace(model,c)\n",
    "    print(model.summary())\n",
    "    model.compile(optimizer='adam',\n",
    "                  loss=tf.keras.losses.SparseCategoricalCrossentropy(),\n",
    "                  metrics=['accuracy'])\n",
    "    histories.append([model.evaluate(X,y)[0]] + model.fit(X,y,epochs=3).history['loss'])"
   ]
  },
  {
   "cell_type": "code",
   "execution_count": 53,
   "id": "612dd7f8",
   "metadata": {},
   "outputs": [
    {
     "data": {
      "image/png": "[encoded data removed]",
      "text/plain": [
       "<Figure size 432x288 with 1 Axes>"
      ]
     },
     "metadata": {
      "needs_background": "light"
     },
     "output_type": "display_data"
    }
   ],
   "source": [
    "epochs = 0\n",
    "for i,h in enumerate(histories):\n",
    "    plt.plot(np.arange(len(h))+epochs,h)\n",
    "    epochs += len(h)-1\n",
    "    \n",
    "plt.plot(np.arange(len(history)),history)\n",
    "plt.yscale('log')"
   ]
  },
  {
   "cell_type": "code",
   "execution_count": 50,
   "id": "84d55198",
   "metadata": {},
   "outputs": [
    {
     "data": {
      "text/plain": [
       "(array([ 4.,  2.,  8., 12., 14., 13., 13., 14., 15.,  5.]),\n",
       " array([-0.9375682 , -0.7678006 , -0.5980331 , -0.42826554, -0.258498  ,\n",
       "        -0.08873045,  0.08103709,  0.25080463,  0.4205722 ,  0.5903397 ,\n",
       "         0.7601073 ], dtype=float32),\n",
       " <BarContainer object of 10 artists>)"
      ]
     },
     "execution_count": 50,
     "metadata": {},
     "output_type": "execute_result"
    },
    {
     "data": {
      "image/png": "[encoded data removed]",
      "text/plain": [
       "<Figure size 432x288 with 1 Axes>"
      ]
     },
     "metadata": {
      "needs_background": "light"
     },
     "output_type": "display_data"
    }
   ],
   "source": [
    "plt.hist(model.layers[1].get_weights()[0].reshape(-1))"
   ]
  },
  {
   "cell_type": "code",
   "execution_count": 43,
   "id": "67debdc4",
   "metadata": {},
   "outputs": [
    {
     "name": "stdout",
     "output_type": "stream",
     "text": [
      "2188/2188 [==============================] - 2s 790us/step - loss: 46.7371 - accuracy: 0.0965\n",
      "Epoch 1/10\n",
      "2188/2188 [==============================] - 2s 935us/step - loss: 1.8912 - accuracy: 0.3301\n",
      "Epoch 2/10\n",
      "2188/2188 [==============================] - 2s 935us/step - loss: 1.1616 - accuracy: 0.5346\n",
      "Epoch 3/10\n",
      "2188/2188 [==============================] - 2s 949us/step - loss: 0.9104 - accuracy: 0.6579\n",
      "Epoch 4/10\n",
      "2188/2188 [==============================] - 2s 1ms/step - loss: 0.8631 - accuracy: 0.6774\n",
      "Epoch 5/10\n",
      "2188/2188 [==============================] - 2s 966us/step - loss: 0.8398 - accuracy: 0.6856\n",
      "Epoch 6/10\n",
      "2188/2188 [==============================] - 2s 972us/step - loss: 0.8327 - accuracy: 0.6878\n",
      "Epoch 7/10\n",
      "2188/2188 [==============================] - 2s 989us/step - loss: 0.8238 - accuracy: 0.6927\n",
      "Epoch 8/10\n",
      "2188/2188 [==============================] - 2s 1ms/step - loss: 0.8134 - accuracy: 0.6971\n",
      "Epoch 9/10\n",
      "2188/2188 [==============================] - 2s 1ms/step - loss: 0.8094 - accuracy: 0.7007\n",
      "Epoch 10/10\n",
      "2188/2188 [==============================] - 2s 1ms/step - loss: 0.8031 - accuracy: 0.7032\n"
     ]
    }
   ],
   "source": [
    "input_dim = X.shape[1]\n",
    "\n",
    "model = keras.models.Sequential()\n",
    "model.add(tf.keras.Input(shape=(input_dim,)))\n",
    "model.add(keras.layers.Dense( 10, activation='relu'))\n",
    "model.add(keras.layers.Dense( 10, activation='relu'))\n",
    "model.add(keras.layers.Dense( 10, activation='relu'))\n",
    "model.add(keras.layers.Dense( 10, activation='softmax'))\n",
    "\n",
    "model.compile(optimizer='adam',\n",
    "              loss=tf.keras.losses.SparseCategoricalCrossentropy(),\n",
    "              metrics=['accuracy'])\n",
    "history = [model.evaluate(X,y)[0]] + model.fit(X,y,epochs=10).history['loss']"
   ]
  },
  {
   "cell_type": "code",
   "execution_count": 44,
   "id": "f1b587c1",
   "metadata": {},
   "outputs": [
    {
     "data": {
      "image/png": "[encoded data removed]",
      "text/plain": [
       "<Figure size 432x288 with 1 Axes>"
      ]
     },
     "metadata": {
      "needs_background": "light"
     },
     "output_type": "display_data"
    }
   ],
   "source": [
    "plt.plot(np.arange(len(history)),history)\n",
    "plt.yscale('log')"
   ]
  },
  {
   "cell_type": "code",
   "execution_count": 46,
   "id": "8a8c5638",
   "metadata": {},
   "outputs": [
    {
     "data": {
      "text/plain": [
       "(array([10.,  8.,  6., 12., 14., 12.,  8., 10., 10., 10.]),\n",
       " array([-0.5364622 , -0.4300101 , -0.32355803, -0.21710595, -0.11065388,\n",
       "        -0.0042018 ,  0.10225028,  0.20870236,  0.31515443,  0.4216065 ,\n",
       "         0.5280586 ], dtype=float32),\n",
       " <BarContainer object of 10 artists>)"
      ]
     },
     "execution_count": 46,
     "metadata": {},
     "output_type": "execute_result"
    },
    {
     "data": {
      "image/png": "[encoded data removed]",
      "text/plain": [
       "<Figure size 432x288 with 1 Axes>"
      ]
     },
     "metadata": {
      "needs_background": "light"
     },
     "output_type": "display_data"
    }
   ],
   "source": [
    "plt.hist(model.layers[1].get_weights()[0].reshape(-1))"
   ]
  },
  {
   "cell_type": "code",
   "execution_count": 23,
   "id": "fda60b22",
   "metadata": {},
   "outputs": [
    {
     "data": {
      "text/plain": [
       "(70000, 784)"
      ]
     },
     "execution_count": 23,
     "metadata": {},
     "output_type": "execute_result"
    }
   ],
   "source": [
    "# model.fit(X,y,epochs=5, validation_split=0.2, callbacks=keras.callbacks.EarlyStopping(\n",
    "#                 monitor='val_loss',\n",
    "#                 min_delta=0,\n",
    "#                 patience=0,\n",
    "#                 verbose=0,\n",
    "#                 mode='auto',\n",
    "#                 baseline=None,\n",
    "#                 restore_best_weights=False\n",
    "#             ))"
   ]
  },
  {
   "cell_type": "code",
   "execution_count": null,
   "id": "02659954",
   "metadata": {},
   "outputs": [],
   "source": []
  }
 ],
 "metadata": {
  "kernelspec": {
   "display_name": "Python 3 (ipykernel)",
   "language": "python",
   "name": "python3"
  },
  "language_info": {
   "codemirror_mode": {
    "name": "ipython",
    "version": 3
   },
   "file_extension": ".py",
   "mimetype": "text/x-python",
   "name": "python",
   "nbconvert_exporter": "python",
   "pygments_lexer": "ipython3",
   "version": "3.8.12"
  }
 },
 "nbformat": 4,
 "nbformat_minor": 5
}
