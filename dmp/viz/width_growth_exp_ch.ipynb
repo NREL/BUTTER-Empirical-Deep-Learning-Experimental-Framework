{
 "cells": [
  {
   "cell_type": "code",
   "execution_count": 88,
   "id": "7d070ea6",
   "metadata": {},
   "outputs": [],
   "source": [
    "#https://proceedings.neurips.cc/paper/2020/file/fdbe012e2e11314b96402b32c0df26b7-Paper.pdf\n",
    "#http://proceedings.mlr.press/v48/wei16.pdf\n",
    "\n",
    "import sys\n",
    "sys.path.append(\"../../\")\n",
    "\n",
    "import tensorflow as tf\n",
    "from tensorflow import keras\n",
    "from pmlb import fetch_data\n",
    "import numpy as np\n",
    "import matplotlib.pyplot as plt\n",
    "import dmp.task.aspect_test.aspect_test_utils as aspect_test_utils\n",
    "from dmp.data.pmlb import pmlb_loader\n",
    "\n",
    "_datasets = pmlb_loader.load_dataset_index()"
   ]
  },
  {
   "cell_type": "code",
   "execution_count": 118,
   "id": "11da3f89",
   "metadata": {},
   "outputs": [],
   "source": [
    "def make_model(dataset, widths):\n",
    "    dataset_series, inputs, outputs, train_inputs, train_outputs, test_inputs, test_outputs, output_activation, run_loss = dataset\n",
    "\n",
    "    model = keras.models.Sequential()\n",
    "    model.add(tf.keras.Input(shape=inputs.shape[1:]))\n",
    "    model.add(keras.layers.Dense(2, activation='relu'))\n",
    "    model.add(keras.layers.Dense(2, activation='relu'))\n",
    "    model.add(keras.layers.Dense(outputs.shape[1], activation=output_activation))\n",
    "\n",
    "    model.compile(optimizer='adam',\n",
    "        loss = run_loss,\n",
    "        #   loss=tf.keras.losses.CategoricalCrossentropy(),\n",
    "        metrics=['accuracy'],\n",
    "        )\n",
    "\n",
    "    print(model.summary())\n",
    "    return model\n",
    "\n",
    "\n",
    "def default_initializer(source_model, dest_model):\n",
    "    for i, l in enumerate(source_model.layers):  # inserts old weights into new model\n",
    "        old_width = l.output_shape[1]\n",
    "        old_weights = l.get_weights()\n",
    "        # new_weights = new_model.layers[i].get_weights()\n",
    "\n",
    "        new_layer = dest_model.layers[i]\n",
    "        new_weights = new_layer.get_weights()\n",
    "\n",
    "        # new_weights[0] = new_weights[0] * 0\n",
    "        # new_weights[1] = new_weights[1] * 0\n",
    "\n",
    "        print(\n",
    "            f'setup weights old: {old_width}, {old_weights[0].shape}, {old_weights[1].shape} new: {new_layer.output_shape[1]}, {new_weights[0].shape}, {new_weights[1].shape}')\n",
    "\n",
    "        new_weights[0][:old_weights[0].shape[0],\n",
    "                       :old_weights[0].shape[1]] = old_weights[0]\n",
    "        new_weights[1][:old_weights[1].shape[0]] = old_weights[1]\n",
    "        new_layer.set_weights(new_weights)\n",
    "\n",
    "\n",
    "def grow_network_replace(dataset, source_model, new_widths, initializer=default_initializer):\n",
    "    dataset_series, inputs, outputs, train_inputs, train_outputs, test_inputs, test_outputs, output_activation, run_loss = dataset\n",
    "\n",
    "    dest_model = keras.Sequential()\n",
    "    input_shape = source_model.input_shape\n",
    "\n",
    "    print(f'growing {len(source_model.layers)}')\n",
    "\n",
    "    for i, l in enumerate(source_model.layers):  # adds modified layers to new model\n",
    "        old_width = l.output_shape[1]\n",
    "        new_width = new_widths[i] if len(new_widths) > i else old_width\n",
    "        dest_model.add(keras.layers.Dense(new_width, activation=l.activation))\n",
    "\n",
    "    dest_model.build(input_shape)  # makes new model (and initialized weights)\n",
    "\n",
    "    initializer(source_model, dest_model)\n",
    "\n",
    "    dest_model.compile(optimizer='adam',\n",
    "                       loss=tf.keras.losses.CategoricalCrossentropy(),\n",
    "                       metrics=['accuracy'])\n",
    "    return dest_model\n",
    "\n",
    "\n",
    "def plot_histories(configs, histories):\n",
    "    for i, h in enumerate(histories):\n",
    "        plt.plot(np.arange(len(h))+epochs, h)\n",
    "        epochs += len(h)-1\n"
   ]
  },
  {
   "cell_type": "code",
   "execution_count": 119,
   "id": "4dc298fd",
   "metadata": {},
   "outputs": [],
   "source": [
    "# X, y = fetch_data('mnist', return_X_y=True)\n",
    "# X, y = fetch_data('sleep', return_X_y=True)\n",
    "\n",
    "def load_dataset(name):\n",
    "    dataset_series, inputs, outputs =  \\\n",
    "                pmlb_loader.load_dataset(_datasets, name)\n",
    "    run_config = aspect_test_utils.prepare_dataset(\n",
    "                'shuffled_train_test_split',\n",
    "                .2,\n",
    "                0.0,\n",
    "                {},\n",
    "                dataset_series['Task'],\n",
    "                inputs,\n",
    "                outputs,\n",
    "            )\n",
    "\n",
    "    train_inputs = run_config['x']\n",
    "    train_outputs = run_config['y']\n",
    "    test_inputs = run_config['validation_data'][0]\n",
    "    test_outputs = run_config['validation_data'][1]\n",
    "\n",
    "    num_inputs = inputs.shape[1:]\n",
    "    num_outputs = outputs.shape[1]\n",
    "    output_activation, run_loss = \\\n",
    "                aspect_test_utils.compute_network_configuration(num_outputs, dataset_series)\n",
    "    dataset = (dataset_series, inputs, outputs,train_inputs, train_outputs, test_inputs, test_outputs, output_activation, run_loss)   \n",
    "    return dataset\n",
    "\n"
   ]
  },
  {
   "cell_type": "code",
   "execution_count": 120,
   "id": "350928f8",
   "metadata": {},
   "outputs": [],
   "source": [
    "def do_grow_train(configs, dataset, initializer=default_initializer):\n",
    "    dataset_series, inputs, outputs,train_inputs, train_outputs, test_inputs, test_outputs, output_activation, run_loss = dataset\n",
    "\n",
    "    loss = []\n",
    "    val_loss = []\n",
    "    model = None\n",
    "    for i, (widths, epochs) in enumerate(configs):\n",
    "        if model is None:\n",
    "            model = make_model(dataset, configs[0][0])\n",
    "        else:\n",
    "            model = grow_network_replace(\n",
    "                dataset, model, widths, initializer=initializer)\n",
    "        print(model.summary())\n",
    "        # initial_loss = model.evaluate(train_inputs, train_outputs)[0]\n",
    "        # loss.append([initial_loss])\n",
    "\n",
    "        # initial_val_loss = model.evaluate(test_inputs, test_outputs)[0]\n",
    "        # val_loss.append([initial_val_loss])\n",
    "\n",
    "        # fit_result = model.fit(train_inputs, train_outputs, epochs = 10)\n",
    "        # print(fit_result.history)\n",
    "        initial_epoch = 1\n",
    "        for i in range(epochs):\n",
    "            end_epoch = initial_epoch + 1\n",
    "            fit_result = model.fit(train_inputs, train_outputs, initial_epoch = initial_epoch, epochs = end_epoch)\n",
    "            initial_epoch = end_epoch\n",
    "            print(fit_result.history)\n",
    "            # loss.append(model.evaluate(train_inputs, train_outputs)[0])\n",
    "            loss.append(fit_result.history['loss'][0])\n",
    "            val_loss.append(model.evaluate(test_inputs, test_outputs)[0])\n",
    "\n",
    "    return model, loss, val_loss\n"
   ]
  },
  {
   "cell_type": "code",
   "execution_count": 122,
   "id": "933a3c37",
   "metadata": {},
   "outputs": [
    {
     "name": "stdout",
     "output_type": "stream",
     "text": [
      "Model: \"sequential_69\"\n",
      "_________________________________________________________________\n",
      "Layer (type)                 Output Shape              Param #   \n",
      "=================================================================\n",
      "dense_242 (Dense)            (None, 2)                 284       \n",
      "_________________________________________________________________\n",
      "dense_243 (Dense)            (None, 2)                 6         \n",
      "_________________________________________________________________\n",
      "dense_244 (Dense)            (None, 5)                 15        \n",
      "=================================================================\n",
      "Total params: 305\n",
      "Trainable params: 305\n",
      "Non-trainable params: 0\n",
      "_________________________________________________________________\n",
      "None\n",
      "Model: \"sequential_69\"\n",
      "_________________________________________________________________\n",
      "Layer (type)                 Output Shape              Param #   \n",
      "=================================================================\n",
      "dense_242 (Dense)            (None, 2)                 284       \n",
      "_________________________________________________________________\n",
      "dense_243 (Dense)            (None, 2)                 6         \n",
      "_________________________________________________________________\n",
      "dense_244 (Dense)            (None, 5)                 15        \n",
      "=================================================================\n",
      "Total params: 305\n",
      "Trainable params: 305\n",
      "Non-trainable params: 0\n",
      "_________________________________________________________________\n",
      "None\n",
      "Epoch 2/2\n",
      "2648/2648 [==============================] - 6s 2ms/step - loss: 1.2639 - accuracy: 0.5261\n",
      "{'loss': [1.2638804912567139], 'accuracy': [0.526107668876648]}\n",
      "662/662 [==============================] - 1s 2ms/step - loss: 1.0884 - accuracy: 0.5372\n",
      "Epoch 3/3\n",
      "2648/2648 [==============================] - 5s 2ms/step - loss: 1.0174 - accuracy: 0.6454\n",
      "{'loss': [1.0173627138137817], 'accuracy': [0.645409882068634]}\n",
      "662/662 [==============================] - 1s 2ms/step - loss: 0.9777 - accuracy: 0.6619\n",
      "Epoch 4/4\n",
      "2648/2648 [==============================] - 5s 2ms/step - loss: 0.9573 - accuracy: 0.6616\n",
      "{'loss': [0.9573197960853577], 'accuracy': [0.6615914702415466]}\n",
      "662/662 [==============================] - 1s 2ms/step - loss: 0.9448 - accuracy: 0.6672\n",
      "Epoch 5/5\n",
      "2648/2648 [==============================] - 5s 2ms/step - loss: 0.9366 - accuracy: 0.6649\n",
      "{'loss': [0.9365941286087036], 'accuracy': [0.6649080514907837]}\n",
      "662/662 [==============================] - 1s 2ms/step - loss: 0.9312 - accuracy: 0.6691\n",
      "Epoch 6/6\n",
      "2648/2648 [==============================] - 5s 2ms/step - loss: 0.9260 - accuracy: 0.6669\n",
      "{'loss': [0.9260457158088684], 'accuracy': [0.66685551404953]}\n",
      "662/662 [==============================] - 1s 2ms/step - loss: 0.9234 - accuracy: 0.6712\n",
      "Epoch 7/7\n",
      "2648/2648 [==============================] - 5s 2ms/step - loss: 0.9195 - accuracy: 0.6683\n",
      "{'loss': [0.9195193648338318], 'accuracy': [0.6682954430580139]}\n",
      "662/662 [==============================] - 1s 2ms/step - loss: 0.9140 - accuracy: 0.6724\n",
      "Epoch 8/8\n",
      "2648/2648 [==============================] - 5s 2ms/step - loss: 0.8887 - accuracy: 0.6746\n",
      "{'loss': [0.8886600136756897], 'accuracy': [0.6746335029602051]}\n",
      "662/662 [==============================] - 1s 2ms/step - loss: 0.8316 - accuracy: 0.7023\n",
      "Epoch 9/9\n",
      "2648/2648 [==============================] - 5s 2ms/step - loss: 0.8109 - accuracy: 0.7164\n",
      "{'loss': [0.8108905553817749], 'accuracy': [0.7164034843444824]}\n",
      "662/662 [==============================] - 2s 3ms/step - loss: 0.7974 - accuracy: 0.7265\n",
      "Epoch 10/10\n",
      "2648/2648 [==============================] - 6s 2ms/step - loss: 0.7945 - accuracy: 0.7239\n",
      "{'loss': [0.7944953441619873], 'accuracy': [0.7239454388618469]}\n",
      "662/662 [==============================] - 1s 2ms/step - loss: 0.7903 - accuracy: 0.7256\n",
      "Epoch 11/11\n",
      "2648/2648 [==============================] - 7s 3ms/step - loss: 0.7891 - accuracy: 0.7253\n",
      "{'loss': [0.7891346216201782], 'accuracy': [0.7253499627113342]}\n",
      "662/662 [==============================] - 2s 2ms/step - loss: 0.7837 - accuracy: 0.7286\n",
      "Epoch 12/12\n",
      "2648/2648 [==============================] - 6s 2ms/step - loss: 0.7859 - accuracy: 0.7257\n",
      "{'loss': [0.7859156727790833], 'accuracy': [0.7257040143013]}\n",
      "662/662 [==============================] - 1s 2ms/step - loss: 0.7795 - accuracy: 0.7309\n",
      "Epoch 13/13\n",
      "2648/2648 [==============================] - 5s 2ms/step - loss: 0.7836 - accuracy: 0.7265\n",
      "{'loss': [0.7836495637893677], 'accuracy': [0.7265302538871765]}\n",
      "662/662 [==============================] - 1s 2ms/step - loss: 0.7780 - accuracy: 0.7308\n"
     ]
    }
   ],
   "source": [
    "dataset = load_dataset('sleep')\n",
    "configs = [\n",
    "    ([2, 2], 3),\n",
    "    ([4, 4], 3),\n",
    "    ([8, 8], 3),\n",
    "    ([16, 16], 3),\n",
    "]\n",
    "\n",
    "full_configs = [([configs[-1][0], sum([c[1] for c in configs])])]\n",
    "\n",
    "full_model, loss, val_loss = do_grow_train(full_configs, dataset, default_initializer)"
   ]
  },
  {
   "cell_type": "code",
   "execution_count": 123,
   "id": "babbfffd",
   "metadata": {},
   "outputs": [
    {
     "name": "stdout",
     "output_type": "stream",
     "text": [
      "Model: \"sequential_70\"\n",
      "_________________________________________________________________\n",
      "Layer (type)                 Output Shape              Param #   \n",
      "=================================================================\n",
      "dense_245 (Dense)            (None, 2)                 284       \n",
      "_________________________________________________________________\n",
      "dense_246 (Dense)            (None, 2)                 6         \n",
      "_________________________________________________________________\n",
      "dense_247 (Dense)            (None, 5)                 15        \n",
      "=================================================================\n",
      "Total params: 305\n",
      "Trainable params: 305\n",
      "Non-trainable params: 0\n",
      "_________________________________________________________________\n",
      "None\n",
      "Model: \"sequential_70\"\n",
      "_________________________________________________________________\n",
      "Layer (type)                 Output Shape              Param #   \n",
      "=================================================================\n",
      "dense_245 (Dense)            (None, 2)                 284       \n",
      "_________________________________________________________________\n",
      "dense_246 (Dense)            (None, 2)                 6         \n",
      "_________________________________________________________________\n",
      "dense_247 (Dense)            (None, 5)                 15        \n",
      "=================================================================\n",
      "Total params: 305\n",
      "Trainable params: 305\n",
      "Non-trainable params: 0\n",
      "_________________________________________________________________\n",
      "None\n",
      "Epoch 2/2\n",
      "2648/2648 [==============================] - 5s 2ms/step - loss: 1.0956 - accuracy: 0.6098\n",
      "{'loss': [1.095621109008789], 'accuracy': [0.6098482012748718]}\n",
      "662/662 [==============================] - 1s 2ms/step - loss: 1.0092 - accuracy: 0.6344\n",
      "Epoch 3/3\n",
      "2648/2648 [==============================] - 5s 2ms/step - loss: 1.0011 - accuracy: 0.6344\n",
      "{'loss': [1.001062273979187], 'accuracy': [0.6344215273857117]}\n",
      "662/662 [==============================] - 1s 1ms/step - loss: 0.9958 - accuracy: 0.6366\n",
      "Epoch 4/4\n",
      "2648/2648 [==============================] - 4s 2ms/step - loss: 0.9934 - accuracy: 0.6361\n",
      "{'loss': [0.9933551549911499], 'accuracy': [0.6360857486724854]}\n",
      "662/662 [==============================] - 1s 1ms/step - loss: 0.9884 - accuracy: 0.6378\n",
      "growing 3\n",
      "setup weights old: 2, (141, 2), (2,) new: 4, (141, 4), (4,)\n",
      "setup weights old: 2, (2, 2), (2,) new: 4, (4, 4), (4,)\n",
      "setup weights old: 5, (2, 5), (5,) new: 5, (4, 5), (5,)\n",
      "Model: \"sequential_71\"\n",
      "_________________________________________________________________\n",
      "Layer (type)                 Output Shape              Param #   \n",
      "=================================================================\n",
      "dense_248 (Dense)            (None, 4)                 568       \n",
      "_________________________________________________________________\n",
      "dense_249 (Dense)            (None, 4)                 20        \n",
      "_________________________________________________________________\n",
      "dense_250 (Dense)            (None, 5)                 25        \n",
      "=================================================================\n",
      "Total params: 613\n",
      "Trainable params: 613\n",
      "Non-trainable params: 0\n",
      "_________________________________________________________________\n",
      "None\n",
      "Epoch 2/2\n",
      "2648/2648 [==============================] - 5s 2ms/step - loss: 0.8461 - accuracy: 0.6995\n",
      "{'loss': [0.846051812171936], 'accuracy': [0.6994783282279968]}\n",
      "662/662 [==============================] - 1s 1ms/step - loss: 0.7400 - accuracy: 0.7404\n",
      "Epoch 3/3\n",
      "2648/2648 [==============================] - 6s 2ms/step - loss: 0.7236 - accuracy: 0.7392\n",
      "{'loss': [0.7236381769180298], 'accuracy': [0.7392299771308899]}\n",
      "662/662 [==============================] - 1s 1ms/step - loss: 0.7099 - accuracy: 0.7465\n",
      "Epoch 4/4\n",
      "2648/2648 [==============================] - 5s 2ms/step - loss: 0.7061 - accuracy: 0.7418\n",
      "{'loss': [0.7060602307319641], 'accuracy': [0.741802990436554]}\n",
      "662/662 [==============================] - 1s 2ms/step - loss: 0.7008 - accuracy: 0.7455\n",
      "growing 3\n",
      "setup weights old: 4, (141, 4), (4,) new: 8, (141, 8), (8,)\n",
      "setup weights old: 4, (4, 4), (4,) new: 8, (8, 8), (8,)\n",
      "setup weights old: 5, (4, 5), (5,) new: 5, (8, 5), (5,)\n",
      "Model: \"sequential_72\"\n",
      "_________________________________________________________________\n",
      "Layer (type)                 Output Shape              Param #   \n",
      "=================================================================\n",
      "dense_251 (Dense)            (None, 8)                 1136      \n",
      "_________________________________________________________________\n",
      "dense_252 (Dense)            (None, 8)                 72        \n",
      "_________________________________________________________________\n",
      "dense_253 (Dense)            (None, 5)                 45        \n",
      "=================================================================\n",
      "Total params: 1,253\n",
      "Trainable params: 1,253\n",
      "Non-trainable params: 0\n",
      "_________________________________________________________________\n",
      "None\n",
      "Epoch 2/2\n",
      "2648/2648 [==============================] - 5s 2ms/step - loss: 0.7001 - accuracy: 0.7419\n",
      "{'loss': [0.7000507712364197], 'accuracy': [0.7418501973152161]}\n",
      "662/662 [==============================] - 1s 1ms/step - loss: 0.6911 - accuracy: 0.7469\n",
      "Epoch 3/3\n",
      "2648/2648 [==============================] - 5s 2ms/step - loss: 0.6880 - accuracy: 0.7448\n",
      "{'loss': [0.6879645586013794], 'accuracy': [0.7448480725288391]}\n",
      "662/662 [==============================] - 1s 2ms/step - loss: 0.6844 - accuracy: 0.7487\n",
      "Epoch 4/4\n",
      "2648/2648 [==============================] - 5s 2ms/step - loss: 0.6802 - accuracy: 0.7465\n",
      "{'loss': [0.6802055239677429], 'accuracy': [0.7465004920959473]}\n",
      "662/662 [==============================] - 1s 1ms/step - loss: 0.6776 - accuracy: 0.7528\n",
      "growing 3\n",
      "setup weights old: 8, (141, 8), (8,) new: 16, (141, 16), (16,)\n",
      "setup weights old: 8, (8, 8), (8,) new: 16, (16, 16), (16,)\n",
      "setup weights old: 5, (8, 5), (5,) new: 5, (16, 5), (5,)\n",
      "Model: \"sequential_73\"\n",
      "_________________________________________________________________\n",
      "Layer (type)                 Output Shape              Param #   \n",
      "=================================================================\n",
      "dense_254 (Dense)            (None, 16)                2272      \n",
      "_________________________________________________________________\n",
      "dense_255 (Dense)            (None, 16)                272       \n",
      "_________________________________________________________________\n",
      "dense_256 (Dense)            (None, 5)                 85        \n",
      "=================================================================\n",
      "Total params: 2,629\n",
      "Trainable params: 2,629\n",
      "Non-trainable params: 0\n",
      "_________________________________________________________________\n",
      "None\n",
      "Epoch 2/2\n",
      "2648/2648 [==============================] - 5s 2ms/step - loss: 0.6766 - accuracy: 0.7483\n",
      "{'loss': [0.6766045093536377], 'accuracy': [0.748294472694397]}\n",
      "662/662 [==============================] - 1s 1ms/step - loss: 0.6768 - accuracy: 0.7531\n",
      "Epoch 3/3\n",
      "2648/2648 [==============================] - 4s 2ms/step - loss: 0.6694 - accuracy: 0.7510\n",
      "{'loss': [0.6693874001502991], 'accuracy': [0.7509737014770508]}\n",
      "662/662 [==============================] - 1s 1ms/step - loss: 0.6681 - accuracy: 0.7555\n",
      "Epoch 4/4\n",
      "2648/2648 [==============================] - 4s 2ms/step - loss: 0.6622 - accuracy: 0.7533\n",
      "{'loss': [0.6621682643890381], 'accuracy': [0.7533224821090698]}\n",
      "662/662 [==============================] - 1s 1ms/step - loss: 0.6633 - accuracy: 0.7550\n"
     ]
    },
    {
     "ename": "ValueError",
     "evalue": "not enough values to unpack (expected 4, got 3)",
     "output_type": "error",
     "traceback": [
      "\u001b[0;31m---------------------------------------------------------------------------\u001b[0m",
      "\u001b[0;31mValueError\u001b[0m                                Traceback (most recent call last)",
      "\u001b[1;32m/home/ctripp/project/dmp/src/dmp/dmp/viz/width_growth_exp_ch.ipynb Cell 6'\u001b[0m in \u001b[0;36m<cell line: 1>\u001b[0;34m()\u001b[0m\n\u001b[0;32m----> <a href='vscode-notebook-cell:/home/ctripp/project/dmp/src/dmp/dmp/viz/width_growth_exp_ch.ipynb#ch0000013?line=0'>1</a>\u001b[0m full_model, model, loss, val_loss \u001b[39m=\u001b[39m do_grow_train(configs, dataset, default_initializer)\n",
      "\u001b[0;31mValueError\u001b[0m: not enough values to unpack (expected 4, got 3)"
     ]
    }
   ],
   "source": [
    "full_model, model, loss, val_loss = do_grow_train(configs, dataset, default_initializer)"
   ]
  },
  {
   "cell_type": "code",
   "execution_count": 58,
   "id": "612dd7f8",
   "metadata": {},
   "outputs": [
    {
     "ename": "TypeError",
     "evalue": "plot_histories() missing 1 required positional argument: 'histories'",
     "output_type": "error",
     "traceback": [
      "\u001b[0;31m---------------------------------------------------------------------------\u001b[0m",
      "\u001b[0;31mTypeError\u001b[0m                                 Traceback (most recent call last)",
      "\u001b[1;32m/home/ctripp/project/dmp/src/dmp/dmp/viz/width_growth_exp_ch.ipynb Cell 7'\u001b[0m in \u001b[0;36m<cell line: 1>\u001b[0;34m()\u001b[0m\n\u001b[0;32m----> <a href='vscode-notebook-cell:/home/ctripp/project/dmp/src/dmp/dmp/viz/width_growth_exp_ch.ipynb#ch0000005?line=0'>1</a>\u001b[0m plot_histories(full_histories)\n\u001b[1;32m      <a href='vscode-notebook-cell:/home/ctripp/project/dmp/src/dmp/dmp/viz/width_growth_exp_ch.ipynb#ch0000005?line=1'>2</a>\u001b[0m plot_histories(default_histories)\n\u001b[1;32m      <a href='vscode-notebook-cell:/home/ctripp/project/dmp/src/dmp/dmp/viz/width_growth_exp_ch.ipynb#ch0000005?line=3'>4</a>\u001b[0m plt\u001b[39m.\u001b[39myscale(\u001b[39m'\u001b[39m\u001b[39mlog\u001b[39m\u001b[39m'\u001b[39m)\n",
      "\u001b[0;31mTypeError\u001b[0m: plot_histories() missing 1 required positional argument: 'histories'"
     ]
    }
   ],
   "source": [
    "\n",
    "plot_histories(full_configs, full_histories)\n",
    "plot_histories(configs, default_histories)\n",
    "\n",
    "plt.yscale('log')"
   ]
  },
  {
   "cell_type": "code",
   "execution_count": 8,
   "id": "84d55198",
   "metadata": {},
   "outputs": [
    {
     "data": {
      "text/plain": [
       "(array([ 5., 10., 13., 10., 10.,  8., 24., 15.,  4.,  1.]),\n",
       " array([-0.70626587, -0.55378973, -0.40131354, -0.24883738, -0.09636122,\n",
       "         0.05611494,  0.2085911 ,  0.36106727,  0.5135434 ,  0.66601956,\n",
       "         0.81849575], dtype=float32),\n",
       " <BarContainer object of 10 artists>)"
      ]
     },
     "execution_count": 8,
     "metadata": {},
     "output_type": "execute_result"
    },
    {
     "data": {
      "image/png": "[encoded data removed]",
      "text/plain": [
       "<Figure size 432x288 with 1 Axes>"
      ]
     },
     "metadata": {
      "needs_background": "light"
     },
     "output_type": "display_data"
    }
   ],
   "source": [
    "plt.hist(model.layers[1].get_weights()[0].reshape(-1))"
   ]
  },
  {
   "cell_type": "code",
   "execution_count": 9,
   "id": "67debdc4",
   "metadata": {},
   "outputs": [
    {
     "name": "stdout",
     "output_type": "stream",
     "text": [
      "2188/2188 [==============================] - 3s 1ms/step - loss: 50.0249 - accuracy: 0.1114\n",
      "Epoch 1/10\n",
      "2188/2188 [==============================] - 4s 2ms/step - loss: 2.1448 - accuracy: 0.2178\n",
      "Epoch 2/10\n",
      "2188/2188 [==============================] - 4s 2ms/step - loss: 1.5867 - accuracy: 0.3324\n",
      "Epoch 3/10\n",
      "2188/2188 [==============================] - 4s 2ms/step - loss: 1.5085 - accuracy: 0.3461\n",
      "Epoch 4/10\n",
      "2188/2188 [==============================] - 4s 2ms/step - loss: 1.4743 - accuracy: 0.3662\n",
      "Epoch 5/10\n",
      "2188/2188 [==============================] - 4s 2ms/step - loss: 1.2855 - accuracy: 0.4830\n",
      "Epoch 6/10\n",
      "2188/2188 [==============================] - 4s 2ms/step - loss: 1.2022 - accuracy: 0.5221\n",
      "Epoch 7/10\n",
      "2188/2188 [==============================] - 4s 2ms/step - loss: 1.1428 - accuracy: 0.5456\n",
      "Epoch 8/10\n",
      "2188/2188 [==============================] - 4s 2ms/step - loss: 1.1125 - accuracy: 0.5607\n",
      "Epoch 9/10\n",
      "2188/2188 [==============================] - 4s 2ms/step - loss: 1.0984 - accuracy: 0.5718\n",
      "Epoch 10/10\n",
      "2188/2188 [==============================] - 4s 2ms/step - loss: 1.0901 - accuracy: 0.5747\n"
     ]
    }
   ],
   "source": [
    "input_dim = X.shape[1]\n",
    "\n",
    "model = keras.models.Sequential()\n",
    "model.add(tf.keras.Input(shape=(input_dim,)))\n",
    "model.add(keras.layers.Dense( 10, activation='relu'))\n",
    "model.add(keras.layers.Dense( 10, activation='relu'))\n",
    "model.add(keras.layers.Dense( 10, activation='relu'))\n",
    "model.add(keras.layers.Dense( 10, activation='softmax'))\n",
    "\n",
    "model.compile(optimizer='adam',\n",
    "              loss=tf.keras.losses.SparseCategoricalCrossentropy(),\n",
    "              metrics=['accuracy'])\n",
    "history = [model.evaluate(X,y)[0]] + model.fit(X,y,epochs=10).history['loss']"
   ]
  },
  {
   "cell_type": "code",
   "execution_count": 10,
   "id": "f1b587c1",
   "metadata": {},
   "outputs": [
    {
     "data": {
      "image/png": "[encoded data removed]",
      "text/plain": [
       "<Figure size 432x288 with 1 Axes>"
      ]
     },
     "metadata": {
      "needs_background": "light"
     },
     "output_type": "display_data"
    }
   ],
   "source": [
    "plt.plot(np.arange(len(history)),history)\n",
    "plt.yscale('log')"
   ]
  },
  {
   "cell_type": "code",
   "execution_count": 46,
   "id": "8a8c5638",
   "metadata": {},
   "outputs": [
    {
     "data": {
      "text/plain": [
       "(array([10.,  8.,  6., 12., 14., 12.,  8., 10., 10., 10.]),\n",
       " array([-0.5364622 , -0.4300101 , -0.32355803, -0.21710595, -0.11065388,\n",
       "        -0.0042018 ,  0.10225028,  0.20870236,  0.31515443,  0.4216065 ,\n",
       "         0.5280586 ], dtype=float32),\n",
       " <BarContainer object of 10 artists>)"
      ]
     },
     "execution_count": 46,
     "metadata": {},
     "output_type": "execute_result"
    },
    {
     "data": {
      "image/png": "[encoded data removed]",
      "text/plain": [
       "<Figure size 432x288 with 1 Axes>"
      ]
     },
     "metadata": {
      "needs_background": "light"
     },
     "output_type": "display_data"
    }
   ],
   "source": [
    "plt.hist(model.layers[1].get_weights()[0].reshape(-1))"
   ]
  },
  {
   "cell_type": "code",
   "execution_count": 23,
   "id": "fda60b22",
   "metadata": {},
   "outputs": [
    {
     "data": {
      "text/plain": [
       "(70000, 784)"
      ]
     },
     "execution_count": 23,
     "metadata": {},
     "output_type": "execute_result"
    }
   ],
   "source": [
    "# model.fit(X,y,epochs=5, validation_split=0.2, callbacks=keras.callbacks.EarlyStopping(\n",
    "#                 monitor='val_loss',\n",
    "#                 min_delta=0,\n",
    "#                 patience=0,\n",
    "#                 verbose=0,\n",
    "#                 mode='auto',\n",
    "#                 baseline=None,\n",
    "#                 restore_best_weights=False\n",
    "#             ))"
   ]
  },
  {
   "cell_type": "code",
   "execution_count": null,
   "id": "02659954",
   "metadata": {},
   "outputs": [],
   "source": []
  }
 ],
 "metadata": {
  "kernelspec": {
   "display_name": "Python 3.8.6 ('dmp')",
   "language": "python",
   "name": "python3"
  },
  "language_info": {
   "codemirror_mode": {
    "name": "ipython",
    "version": 3
   },
   "file_extension": ".py",
   "mimetype": "text/x-python",
   "name": "python",
   "nbconvert_exporter": "python",
   "pygments_lexer": "ipython3",
   "version": "3.8.6"
  },
  "vscode": {
   "interpreter": {
    "hash": "a5b90290add7843c6c9dda680f449ea0bdfb0d307143bb793bfbe2c8483c398e"
   }
  }
 },
 "nbformat": 4,
 "nbformat_minor": 5
}
